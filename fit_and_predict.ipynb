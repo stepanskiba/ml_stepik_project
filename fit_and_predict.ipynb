{
 "cells": [
  {
   "cell_type": "code",
   "execution_count": 13,
   "metadata": {
    "collapsed": true,
    "pycharm": {
     "name": "#%%\n"
    }
   },
   "outputs": [],
   "source": [
    "import pandas as pd\n",
    "import numpy as np\n",
    "import seaborn as sns\n",
    "import matplotlib.pyplot as plt\n",
    "%matplotlib inline\n",
    "import warnings\n",
    "from sklearn.tree import DecisionTreeClassifier\n",
    "from sklearn.model_selection import GridSearchCV, RandomizedSearchCV, train_test_split\n",
    "from sklearn.linear_model import LogisticRegression\n",
    "from sklearn.ensemble import RandomForestClassifier, GradientBoostingClassifier\n",
    "from sklearn.metrics import plot_roc_curve, roc_auc_score, f1_score, accuracy_score"
   ]
  },
  {
   "cell_type": "code",
   "execution_count": 14,
   "outputs": [],
   "source": [
    "def metrics(clf, X_test, y_test):\n",
    "    plot_roc_curve(clf, X_test, y_test)\n",
    "    plt.ylabel('True Positive Rate')\n",
    "    plt.xlabel('False Positive Rate')\n",
    "    plt.show()\n",
    "    print(f'roc-auc = {round(roc_auc_score(y_true=y_test, y_score=clf.predict_proba(X_test)[:, 1]), 4)}')\n",
    "    print(f'accuracy = {round(accuracy_score(y_true=y_test, y_pred=clf.predict(X_test)), 4)}')\n",
    "    print(f'f1-score = {round(f1_score(y_true=y_test, y_pred=clf.predict(X_test)), 4)}')"
   ],
   "metadata": {
    "collapsed": false,
    "pycharm": {
     "name": "#%%\n"
    }
   }
  },
  {
   "cell_type": "code",
   "execution_count": 21,
   "outputs": [],
   "source": [
    "X = pd.read_csv('data/X_new.csv', index_col=0)\n",
    "y = pd.read_csv('data/y_new.csv', index_col=0)"
   ],
   "metadata": {
    "collapsed": false,
    "pycharm": {
     "name": "#%%\n"
    }
   }
  },
  {
   "cell_type": "code",
   "execution_count": 16,
   "outputs": [
    {
     "data": {
      "text/plain": "         correct  wrong  passed  correct_ratio  hours\nuser_id                                              \n2            2.0    0.0       9            1.0    0.1\n3            4.0    4.0      15            0.5    0.3\n5            2.0    2.0       1            0.5    0.0\n8            9.0   21.0      84            0.3    0.2\n14           0.0    1.0       3            0.0    0.7\n...          ...    ...     ...            ...    ...\n26773        0.0    0.0       1            0.0    0.0\n26774        0.0    0.0       1            0.0    0.0\n26788        0.0    0.0       1            0.0    0.0\n26789        0.0    0.0       2            0.0    0.0\n26793        0.0    0.0       0            0.0    0.0\n\n[19234 rows x 5 columns]",
      "text/html": "<div>\n<style scoped>\n    .dataframe tbody tr th:only-of-type {\n        vertical-align: middle;\n    }\n\n    .dataframe tbody tr th {\n        vertical-align: top;\n    }\n\n    .dataframe thead th {\n        text-align: right;\n    }\n</style>\n<table border=\"1\" class=\"dataframe\">\n  <thead>\n    <tr style=\"text-align: right;\">\n      <th></th>\n      <th>correct</th>\n      <th>wrong</th>\n      <th>passed</th>\n      <th>correct_ratio</th>\n      <th>hours</th>\n    </tr>\n    <tr>\n      <th>user_id</th>\n      <th></th>\n      <th></th>\n      <th></th>\n      <th></th>\n      <th></th>\n    </tr>\n  </thead>\n  <tbody>\n    <tr>\n      <th>2</th>\n      <td>2.0</td>\n      <td>0.0</td>\n      <td>9</td>\n      <td>1.0</td>\n      <td>0.1</td>\n    </tr>\n    <tr>\n      <th>3</th>\n      <td>4.0</td>\n      <td>4.0</td>\n      <td>15</td>\n      <td>0.5</td>\n      <td>0.3</td>\n    </tr>\n    <tr>\n      <th>5</th>\n      <td>2.0</td>\n      <td>2.0</td>\n      <td>1</td>\n      <td>0.5</td>\n      <td>0.0</td>\n    </tr>\n    <tr>\n      <th>8</th>\n      <td>9.0</td>\n      <td>21.0</td>\n      <td>84</td>\n      <td>0.3</td>\n      <td>0.2</td>\n    </tr>\n    <tr>\n      <th>14</th>\n      <td>0.0</td>\n      <td>1.0</td>\n      <td>3</td>\n      <td>0.0</td>\n      <td>0.7</td>\n    </tr>\n    <tr>\n      <th>...</th>\n      <td>...</td>\n      <td>...</td>\n      <td>...</td>\n      <td>...</td>\n      <td>...</td>\n    </tr>\n    <tr>\n      <th>26773</th>\n      <td>0.0</td>\n      <td>0.0</td>\n      <td>1</td>\n      <td>0.0</td>\n      <td>0.0</td>\n    </tr>\n    <tr>\n      <th>26774</th>\n      <td>0.0</td>\n      <td>0.0</td>\n      <td>1</td>\n      <td>0.0</td>\n      <td>0.0</td>\n    </tr>\n    <tr>\n      <th>26788</th>\n      <td>0.0</td>\n      <td>0.0</td>\n      <td>1</td>\n      <td>0.0</td>\n      <td>0.0</td>\n    </tr>\n    <tr>\n      <th>26789</th>\n      <td>0.0</td>\n      <td>0.0</td>\n      <td>2</td>\n      <td>0.0</td>\n      <td>0.0</td>\n    </tr>\n    <tr>\n      <th>26793</th>\n      <td>0.0</td>\n      <td>0.0</td>\n      <td>0</td>\n      <td>0.0</td>\n      <td>0.0</td>\n    </tr>\n  </tbody>\n</table>\n<p>19234 rows × 5 columns</p>\n</div>"
     },
     "execution_count": 16,
     "metadata": {},
     "output_type": "execute_result"
    }
   ],
   "source": [
    "X"
   ],
   "metadata": {
    "collapsed": false,
    "pycharm": {
     "name": "#%%\n"
    }
   }
  },
  {
   "cell_type": "code",
   "execution_count": 22,
   "outputs": [
    {
     "data": {
      "text/plain": "         is_gone\nuser_id         \n2              1\n3              1\n5              1\n8              1\n14             1\n...          ...\n26773          1\n26774          1\n26788          1\n26789          1\n26793          1\n\n[19234 rows x 1 columns]",
      "text/html": "<div>\n<style scoped>\n    .dataframe tbody tr th:only-of-type {\n        vertical-align: middle;\n    }\n\n    .dataframe tbody tr th {\n        vertical-align: top;\n    }\n\n    .dataframe thead th {\n        text-align: right;\n    }\n</style>\n<table border=\"1\" class=\"dataframe\">\n  <thead>\n    <tr style=\"text-align: right;\">\n      <th></th>\n      <th>is_gone</th>\n    </tr>\n    <tr>\n      <th>user_id</th>\n      <th></th>\n    </tr>\n  </thead>\n  <tbody>\n    <tr>\n      <th>2</th>\n      <td>1</td>\n    </tr>\n    <tr>\n      <th>3</th>\n      <td>1</td>\n    </tr>\n    <tr>\n      <th>5</th>\n      <td>1</td>\n    </tr>\n    <tr>\n      <th>8</th>\n      <td>1</td>\n    </tr>\n    <tr>\n      <th>14</th>\n      <td>1</td>\n    </tr>\n    <tr>\n      <th>...</th>\n      <td>...</td>\n    </tr>\n    <tr>\n      <th>26773</th>\n      <td>1</td>\n    </tr>\n    <tr>\n      <th>26774</th>\n      <td>1</td>\n    </tr>\n    <tr>\n      <th>26788</th>\n      <td>1</td>\n    </tr>\n    <tr>\n      <th>26789</th>\n      <td>1</td>\n    </tr>\n    <tr>\n      <th>26793</th>\n      <td>1</td>\n    </tr>\n  </tbody>\n</table>\n<p>19234 rows × 1 columns</p>\n</div>"
     },
     "execution_count": 22,
     "metadata": {},
     "output_type": "execute_result"
    }
   ],
   "source": [
    "y"
   ],
   "metadata": {
    "collapsed": false,
    "pycharm": {
     "name": "#%%\n"
    }
   }
  },
  {
   "cell_type": "code",
   "execution_count": 23,
   "outputs": [],
   "source": [
    "# Разделим данные на тренировочные и тестовые 4 к 1:\n",
    "X_train, X_test, y_train, y_test = train_test_split(X, y, train_size=0.8)"
   ],
   "metadata": {
    "collapsed": false,
    "pycharm": {
     "name": "#%%\n"
    }
   }
  },
  {
   "cell_type": "code",
   "execution_count": 24,
   "outputs": [
    {
     "data": {
      "text/plain": "<Figure size 432x288 with 1 Axes>",
      "image/png": "[encoded data removed]"
     },
     "metadata": {
      "needs_background": "light"
     },
     "output_type": "display_data"
    },
    {
     "name": "stdout",
     "output_type": "stream",
     "text": [
      "roc-auc = 0.8669\n",
      "accuracy = 0.6961\n",
      "f1-score = 0.8057\n"
     ]
    }
   ],
   "source": [
    "#LogisticRegression\n",
    "\n",
    "\n",
    "warnings.filterwarnings(\"ignore\")\n",
    "parameters = {'solver': ['newton-cg', 'lbfgs', 'liblinear', 'sag', 'saga']}\n",
    "log_reg = LogisticRegression(random_state=0, max_iter=500, class_weight='balanced')\n",
    "log_reg_grid = GridSearchCV(log_reg, parameters, cv=5, scoring='f1')\n",
    "log_reg_grid.fit(X_train, y_train)\n",
    "\n",
    "metrics(clf=log_reg_grid.best_estimator_, X_test=X_test, y_test=y_test)"
   ],
   "metadata": {
    "collapsed": false,
    "pycharm": {
     "name": "#%%\n"
    }
   }
  },
  {
   "cell_type": "code",
   "execution_count": 25,
   "outputs": [
    {
     "data": {
      "text/plain": "<Figure size 432x288 with 1 Axes>",
      "image/png": "[encoded data removed]"
     },
     "metadata": {
      "needs_background": "light"
     },
     "output_type": "display_data"
    },
    {
     "name": "stdout",
     "output_type": "stream",
     "text": [
      "roc-auc = 0.8616\n",
      "accuracy = 0.9249\n",
      "f1-score = 0.9605\n"
     ]
    }
   ],
   "source": [
    "#Tree\n",
    "\n",
    "\n",
    "parameters = {'max_depth': range(1, 12), 'min_samples_split': range(1, 10), 'min_samples_leaf': range(1, 10)}\n",
    "tree = DecisionTreeClassifier()\n",
    "tree_grid = GridSearchCV(tree, param_grid=parameters, cv=3, n_jobs=-1)\n",
    "tree_grid.fit(X_train, y_train)\n",
    "\n",
    "metrics(clf=tree_grid.best_estimator_, X_test=X_test, y_test=y_test)"
   ],
   "metadata": {
    "collapsed": false,
    "pycharm": {
     "name": "#%%\n"
    }
   }
  },
  {
   "cell_type": "code",
   "execution_count": 26,
   "outputs": [
    {
     "data": {
      "text/plain": "<Figure size 432x288 with 1 Axes>",
      "image/png": "[encoded data removed]"
     },
     "metadata": {
      "needs_background": "light"
     },
     "output_type": "display_data"
    },
    {
     "name": "stdout",
     "output_type": "stream",
     "text": [
      "roc-auc = 0.873\n",
      "accuracy = 0.9285\n",
      "f1-score = 0.9626\n"
     ]
    }
   ],
   "source": [
    "#RandomForest\n",
    "\n",
    "\n",
    "parameters = {'max_depth': range(1, 12, 2), 'n_estimators': range(10, 50, 10), 'min_samples_split': range(2, 9, 2),\n",
    "              'min_samples_leaf': range(1, 7)}\n",
    "forest = RandomForestClassifier()\n",
    "forest_grid = GridSearchCV(forest, param_grid=parameters, cv=3, n_jobs=-1)\n",
    "forest_grid.fit(X_train, y_train)\n",
    "\n",
    "metrics(clf=forest_grid.best_estimator_, X_test=X_test, y_test=y_test)"
   ],
   "metadata": {
    "collapsed": false,
    "pycharm": {
     "name": "#%%\n"
    }
   }
  },
  {
   "cell_type": "code",
   "execution_count": 27,
   "outputs": [],
   "source": [
    "clf = forest_grid.best_estimator_"
   ],
   "metadata": {
    "collapsed": false,
    "pycharm": {
     "name": "#%%\n"
    }
   }
  },
  {
   "cell_type": "code",
   "execution_count": 28,
   "outputs": [],
   "source": [
    "X_valid = pd.read_csv('data/X_valid.csv', index_col='user_id')"
   ],
   "metadata": {
    "collapsed": false,
    "pycharm": {
     "name": "#%%\n"
    }
   }
  },
  {
   "cell_type": "code",
   "execution_count": 29,
   "outputs": [
    {
     "data": {
      "text/plain": "         correct  wrong  passed  correct_ratio  hours\nuser_id                                              \n12           1.0    0.0       9       1.000000    0.0\n13          29.0   36.0      70       0.446154   35.5\n15          10.0   30.0       1       0.250000    0.0\n21          24.0  103.0      68       0.188976   18.8\n35           7.0   35.0      30       0.166667   46.2\n...          ...    ...     ...            ...    ...\n26745        0.0    0.0       1       0.000000    0.0\n26768        0.0    0.0       1       0.000000    0.0\n26791        0.0    0.0       1       0.000000    0.0\n26795        0.0    0.0       1       0.000000    0.0\n26800        0.0    0.0       0       0.000000    0.0\n\n[6184 rows x 5 columns]",
      "text/html": "<div>\n<style scoped>\n    .dataframe tbody tr th:only-of-type {\n        vertical-align: middle;\n    }\n\n    .dataframe tbody tr th {\n        vertical-align: top;\n    }\n\n    .dataframe thead th {\n        text-align: right;\n    }\n</style>\n<table border=\"1\" class=\"dataframe\">\n  <thead>\n    <tr style=\"text-align: right;\">\n      <th></th>\n      <th>correct</th>\n      <th>wrong</th>\n      <th>passed</th>\n      <th>correct_ratio</th>\n      <th>hours</th>\n    </tr>\n    <tr>\n      <th>user_id</th>\n      <th></th>\n      <th></th>\n      <th></th>\n      <th></th>\n      <th></th>\n    </tr>\n  </thead>\n  <tbody>\n    <tr>\n      <th>12</th>\n      <td>1.0</td>\n      <td>0.0</td>\n      <td>9</td>\n      <td>1.000000</td>\n      <td>0.0</td>\n    </tr>\n    <tr>\n      <th>13</th>\n      <td>29.0</td>\n      <td>36.0</td>\n      <td>70</td>\n      <td>0.446154</td>\n      <td>35.5</td>\n    </tr>\n    <tr>\n      <th>15</th>\n      <td>10.0</td>\n      <td>30.0</td>\n      <td>1</td>\n      <td>0.250000</td>\n      <td>0.0</td>\n    </tr>\n    <tr>\n      <th>21</th>\n      <td>24.0</td>\n      <td>103.0</td>\n      <td>68</td>\n      <td>0.188976</td>\n      <td>18.8</td>\n    </tr>\n    <tr>\n      <th>35</th>\n      <td>7.0</td>\n      <td>35.0</td>\n      <td>30</td>\n      <td>0.166667</td>\n      <td>46.2</td>\n    </tr>\n    <tr>\n      <th>...</th>\n      <td>...</td>\n      <td>...</td>\n      <td>...</td>\n      <td>...</td>\n      <td>...</td>\n    </tr>\n    <tr>\n      <th>26745</th>\n      <td>0.0</td>\n      <td>0.0</td>\n      <td>1</td>\n      <td>0.000000</td>\n      <td>0.0</td>\n    </tr>\n    <tr>\n      <th>26768</th>\n      <td>0.0</td>\n      <td>0.0</td>\n      <td>1</td>\n      <td>0.000000</td>\n      <td>0.0</td>\n    </tr>\n    <tr>\n      <th>26791</th>\n      <td>0.0</td>\n      <td>0.0</td>\n      <td>1</td>\n      <td>0.000000</td>\n      <td>0.0</td>\n    </tr>\n    <tr>\n      <th>26795</th>\n      <td>0.0</td>\n      <td>0.0</td>\n      <td>1</td>\n      <td>0.000000</td>\n      <td>0.0</td>\n    </tr>\n    <tr>\n      <th>26800</th>\n      <td>0.0</td>\n      <td>0.0</td>\n      <td>0</td>\n      <td>0.000000</td>\n      <td>0.0</td>\n    </tr>\n  </tbody>\n</table>\n<p>6184 rows × 5 columns</p>\n</div>"
     },
     "execution_count": 29,
     "metadata": {},
     "output_type": "execute_result"
    }
   ],
   "source": [
    "X_valid"
   ],
   "metadata": {
    "collapsed": false,
    "pycharm": {
     "name": "#%%\n"
    }
   }
  },
  {
   "cell_type": "code",
   "execution_count": 34,
   "outputs": [],
   "source": [
    "ans = pd.DataFrame(clf.predict_proba(X_valid)[:, 0])"
   ],
   "metadata": {
    "collapsed": false,
    "pycharm": {
     "name": "#%%\n"
    }
   }
  },
  {
   "cell_type": "code",
   "execution_count": 35,
   "outputs": [],
   "source": [
    "ans['user_id'] = X_valid.index\n",
    "ans = ans.set_index('user_id')"
   ],
   "metadata": {
    "collapsed": false,
    "pycharm": {
     "name": "#%%\n"
    }
   }
  },
  {
   "cell_type": "code",
   "execution_count": 36,
   "outputs": [
    {
     "data": {
      "text/plain": "                0\nuser_id          \n12       0.057405\n13       0.523403\n15       0.084002\n21       0.259076\n35       0.144520\n...           ...\n26745    0.000000\n26768    0.000000\n26791    0.000000\n26795    0.000000\n26800    0.000000\n\n[6184 rows x 1 columns]",
      "text/html": "<div>\n<style scoped>\n    .dataframe tbody tr th:only-of-type {\n        vertical-align: middle;\n    }\n\n    .dataframe tbody tr th {\n        vertical-align: top;\n    }\n\n    .dataframe thead th {\n        text-align: right;\n    }\n</style>\n<table border=\"1\" class=\"dataframe\">\n  <thead>\n    <tr style=\"text-align: right;\">\n      <th></th>\n      <th>0</th>\n    </tr>\n    <tr>\n      <th>user_id</th>\n      <th></th>\n    </tr>\n  </thead>\n  <tbody>\n    <tr>\n      <th>12</th>\n      <td>0.057405</td>\n    </tr>\n    <tr>\n      <th>13</th>\n      <td>0.523403</td>\n    </tr>\n    <tr>\n      <th>15</th>\n      <td>0.084002</td>\n    </tr>\n    <tr>\n      <th>21</th>\n      <td>0.259076</td>\n    </tr>\n    <tr>\n      <th>35</th>\n      <td>0.144520</td>\n    </tr>\n    <tr>\n      <th>...</th>\n      <td>...</td>\n    </tr>\n    <tr>\n      <th>26745</th>\n      <td>0.000000</td>\n    </tr>\n    <tr>\n      <th>26768</th>\n      <td>0.000000</td>\n    </tr>\n    <tr>\n      <th>26791</th>\n      <td>0.000000</td>\n    </tr>\n    <tr>\n      <th>26795</th>\n      <td>0.000000</td>\n    </tr>\n    <tr>\n      <th>26800</th>\n      <td>0.000000</td>\n    </tr>\n  </tbody>\n</table>\n<p>6184 rows × 1 columns</p>\n</div>"
     },
     "execution_count": 36,
     "metadata": {},
     "output_type": "execute_result"
    }
   ],
   "source": [
    "ans"
   ],
   "metadata": {
    "collapsed": false,
    "pycharm": {
     "name": "#%%\n"
    }
   }
  },
  {
   "cell_type": "code",
   "execution_count": 37,
   "outputs": [],
   "source": [
    "ans.to_csv('ans.csv')"
   ],
   "metadata": {
    "collapsed": false,
    "pycharm": {
     "name": "#%%\n"
    }
   }
  },
  {
   "cell_type": "code",
   "execution_count": 15,
   "outputs": [
    {
     "data": {
      "text/plain": "<Figure size 864x864 with 1 Axes>",
      "image/png": "[encoded data removed]"
     },
     "metadata": {
      "needs_background": "light"
     },
     "output_type": "display_data"
    }
   ],
   "source": [
    "# создаем диаграмму, где ось x - это признак, а Y указывает значимость каждого признака\n",
    "plt.figure(figsize=(12, 12))\n",
    "plt.bar(X.columns, forest_grid.best_estimator_.feature_importances_)\n",
    "plt.xticks(rotation=45)\n",
    "\n",
    "plt.show()"
   ],
   "metadata": {
    "collapsed": false,
    "pycharm": {
     "name": "#%%\n"
    }
   }
  },
  {
   "cell_type": "code",
   "execution_count": 16,
   "outputs": [
    {
     "data": {
      "text/plain": "RandomForestClassifier(max_depth=9, min_samples_leaf=5, min_samples_split=4,\n                       n_estimators=20)",
      "text/html": "<style>#sk-container-id-1 {color: black;background-color: white;}#sk-container-id-1 pre{padding: 0;}#sk-container-id-1 div.sk-toggleable {background-color: white;}#sk-container-id-1 label.sk-toggleable__label {cursor: pointer;display: block;width: 100%;margin-bottom: 0;padding: 0.3em;box-sizing: border-box;text-align: center;}#sk-container-id-1 label.sk-toggleable__label-arrow:before {content: \"▸\";float: left;margin-right: 0.25em;color: #696969;}#sk-container-id-1 label.sk-toggleable__label-arrow:hover:before {color: black;}#sk-container-id-1 div.sk-estimator:hover label.sk-toggleable__label-arrow:before {color: black;}#sk-container-id-1 div.sk-toggleable__content {max-height: 0;max-width: 0;overflow: hidden;text-align: left;background-color: #f0f8ff;}#sk-container-id-1 div.sk-toggleable__content pre {margin: 0.2em;color: black;border-radius: 0.25em;background-color: #f0f8ff;}#sk-container-id-1 input.sk-toggleable__control:checked~div.sk-toggleable__content {max-height: 200px;max-width: 100%;overflow: auto;}#sk-container-id-1 input.sk-toggleable__control:checked~label.sk-toggleable__label-arrow:before {content: \"▾\";}#sk-container-id-1 div.sk-estimator input.sk-toggleable__control:checked~label.sk-toggleable__label {background-color: #d4ebff;}#sk-container-id-1 div.sk-label input.sk-toggleable__control:checked~label.sk-toggleable__label {background-color: #d4ebff;}#sk-container-id-1 input.sk-hidden--visually {border: 0;clip: rect(1px 1px 1px 1px);clip: rect(1px, 1px, 1px, 1px);height: 1px;margin: -1px;overflow: hidden;padding: 0;position: absolute;width: 1px;}#sk-container-id-1 div.sk-estimator {font-family: monospace;background-color: #f0f8ff;border: 1px dotted black;border-radius: 0.25em;box-sizing: border-box;margin-bottom: 0.5em;}#sk-container-id-1 div.sk-estimator:hover {background-color: #d4ebff;}#sk-container-id-1 div.sk-parallel-item::after {content: \"\";width: 100%;border-bottom: 1px solid gray;flex-grow: 1;}#sk-container-id-1 div.sk-label:hover label.sk-toggleable__label {background-color: #d4ebff;}#sk-container-id-1 div.sk-serial::before {content: \"\";position: absolute;border-left: 1px solid gray;box-sizing: border-box;top: 0;bottom: 0;left: 50%;z-index: 0;}#sk-container-id-1 div.sk-serial {display: flex;flex-direction: column;align-items: center;background-color: white;padding-right: 0.2em;padding-left: 0.2em;position: relative;}#sk-container-id-1 div.sk-item {position: relative;z-index: 1;}#sk-container-id-1 div.sk-parallel {display: flex;align-items: stretch;justify-content: center;background-color: white;position: relative;}#sk-container-id-1 div.sk-item::before, #sk-container-id-1 div.sk-parallel-item::before {content: \"\";position: absolute;border-left: 1px solid gray;box-sizing: border-box;top: 0;bottom: 0;left: 50%;z-index: -1;}#sk-container-id-1 div.sk-parallel-item {display: flex;flex-direction: column;z-index: 1;position: relative;background-color: white;}#sk-container-id-1 div.sk-parallel-item:first-child::after {align-self: flex-end;width: 50%;}#sk-container-id-1 div.sk-parallel-item:last-child::after {align-self: flex-start;width: 50%;}#sk-container-id-1 div.sk-parallel-item:only-child::after {width: 0;}#sk-container-id-1 div.sk-dashed-wrapped {border: 1px dashed gray;margin: 0 0.4em 0.5em 0.4em;box-sizing: border-box;padding-bottom: 0.4em;background-color: white;}#sk-container-id-1 div.sk-label label {font-family: monospace;font-weight: bold;display: inline-block;line-height: 1.2em;}#sk-container-id-1 div.sk-label-container {text-align: center;}#sk-container-id-1 div.sk-container {/* jupyter's `normalize.less` sets `[hidden] { display: none; }` but bootstrap.min.css set `[hidden] { display: none !important; }` so we also need the `!important` here to be able to override the default hidden behavior on the sphinx rendered scikit-learn.org. See: https://github.com/scikit-learn/scikit-learn/issues/21755 */display: inline-block !important;position: relative;}#sk-container-id-1 div.sk-text-repr-fallback {display: none;}</style><div id=\"sk-container-id-1\" class=\"sk-top-container\"><div class=\"sk-text-repr-fallback\"><pre>RandomForestClassifier(max_depth=9, min_samples_leaf=5, min_samples_split=4,\n                       n_estimators=20)</pre><b>In a Jupyter environment, please rerun this cell to show the HTML representation or trust the notebook. <br />On GitHub, the HTML representation is unable to render, please try loading this page with nbviewer.org.</b></div><div class=\"sk-container\" hidden><div class=\"sk-item\"><div class=\"sk-estimator sk-toggleable\"><input class=\"sk-toggleable__control sk-hidden--visually\" id=\"sk-estimator-id-1\" type=\"checkbox\" checked><label for=\"sk-estimator-id-1\" class=\"sk-toggleable__label sk-toggleable__label-arrow\">RandomForestClassifier</label><div class=\"sk-toggleable__content\"><pre>RandomForestClassifier(max_depth=9, min_samples_leaf=5, min_samples_split=4,\n                       n_estimators=20)</pre></div></div></div></div></div>"
     },
     "execution_count": 16,
     "metadata": {},
     "output_type": "execute_result"
    }
   ],
   "source": [
    "forest_grid.best_estimator_"
   ],
   "metadata": {
    "collapsed": false,
    "pycharm": {
     "name": "#%%\n"
    }
   }
  },
  {
   "cell_type": "code",
   "execution_count": 17,
   "outputs": [
    {
     "data": {
      "text/plain": "<Figure size 432x288 with 1 Axes>",
      "image/png": "[encoded data removed]"
     },
     "metadata": {
      "needs_background": "light"
     },
     "output_type": "display_data"
    },
    {
     "name": "stdout",
     "output_type": "stream",
     "text": [
      "roc-auc = 0.9561\n",
      "accuracy = 0.9072\n",
      "f1-score = 0.8969\n"
     ]
    }
   ],
   "source": [
    "#GradientBoosting\n",
    "\n",
    "\n",
    "parameters = {'n_estimators': range(100, 300, 20),\n",
    "              'max_depth': range(2, 10, 2),\n",
    "              'criterion': ['friedman_mse', 'squared_error'],\n",
    "              'learning_rate': np.arange(0.01, 0.04, 0.005),\n",
    "              'min_samples_leaf': range(2, 10, 3),\n",
    "              'min_samples_split': range(2, 10, 3),\n",
    "              'random_state': [0]}\n",
    "grad_boost = GradientBoostingClassifier()\n",
    "grad_boost_grid = RandomizedSearchCV(grad_boost, param_distributions=parameters, cv=3, n_jobs=-1)\n",
    "grad_boost_grid.fit(X_train, y_train)\n",
    "\n",
    "metrics(clf=grad_boost_grid.best_estimator_, X_test=X_test, y_test=y_test)"
   ],
   "metadata": {
    "collapsed": false,
    "pycharm": {
     "name": "#%%\n"
    }
   }
  },
  {
   "cell_type": "code",
   "execution_count": 18,
   "outputs": [
    {
     "data": {
      "text/plain": "{'random_state': 0,\n 'n_estimators': 280,\n 'min_samples_split': 2,\n 'min_samples_leaf': 8,\n 'max_depth': 2,\n 'learning_rate': 0.015,\n 'criterion': 'friedman_mse'}"
     },
     "execution_count": 18,
     "metadata": {},
     "output_type": "execute_result"
    }
   ],
   "source": [
    "grad_boost_grid.best_params_"
   ],
   "metadata": {
    "collapsed": false,
    "pycharm": {
     "name": "#%%\n"
    }
   }
  }
 ],
 "metadata": {
  "kernelspec": {
   "display_name": "Python 3",
   "language": "python",
   "name": "python3"
  },
  "language_info": {
   "codemirror_mode": {
    "name": "ipython",
    "version": 2
   },
   "file_extension": ".py",
   "mimetype": "text/x-python",
   "name": "python",
   "nbconvert_exporter": "python",
   "pygments_lexer": "ipython2",
   "version": "2.7.6"
  }
 },
 "nbformat": 4,
 "nbformat_minor": 0
}